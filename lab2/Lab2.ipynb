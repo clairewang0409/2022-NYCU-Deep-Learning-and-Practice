{
 "cells": [
  {
   "cell_type": "code",
   "execution_count": 1,
   "id": "e123032a",
   "metadata": {},
   "outputs": [],
   "source": [
    "import numpy as np\n",
    "import matplotlib.pyplot as plt\n",
    "import random\n",
    "random.seed(10)\n"
   ]
  },
  {
   "cell_type": "code",
   "execution_count": 2,
   "id": "06a02305",
   "metadata": {},
   "outputs": [],
   "source": [
    "# Input"
   ]
  },
  {
   "cell_type": "code",
   "execution_count": 3,
   "id": "92342f24",
   "metadata": {},
   "outputs": [],
   "source": [
    "def generate_linear(n=100):\n",
    "    pts = np.random.uniform(0, 1, (n, 2))\n",
    "    inputs = []\n",
    "    labels = []\n",
    "    \n",
    "    for pt in pts:\n",
    "        inputs.append([pt[0], pt[1]])\n",
    "        distance = (pt[0]-pt[1])/1.414\n",
    "        if pt[0] > pt[1]:\n",
    "            labels.append(0)\n",
    "        else:\n",
    "            labels.append(1)\n",
    "            \n",
    "    return np.array(inputs), np.array(labels).reshape(n, 1)\n"
   ]
  },
  {
   "cell_type": "code",
   "execution_count": 4,
   "id": "1753316b",
   "metadata": {},
   "outputs": [],
   "source": [
    "def generate_XOR_easy():\n",
    "    inputs = []\n",
    "    labels = []\n",
    "    \n",
    "    for i in range(11):\n",
    "        inputs.append([0.1*i, 0.1*i])\n",
    "        labels.append(0)\n",
    "        \n",
    "        if 0.1*i ==0.5:\n",
    "            continue\n",
    "            \n",
    "        inputs.append([0.1*i, 1-0.1*i])\n",
    "        labels.append(1)\n",
    "        \n",
    "    return np.array(inputs), np.array(labels).reshape(21, 1)\n"
   ]
  },
  {
   "cell_type": "code",
   "execution_count": 5,
   "id": "7375b351",
   "metadata": {},
   "outputs": [],
   "source": [
    "# Show result"
   ]
  },
  {
   "cell_type": "code",
   "execution_count": 6,
   "id": "db827345",
   "metadata": {},
   "outputs": [],
   "source": [
    "def show_result(x, y, pred_y):\n",
    "    plt.subplot(1,2,1)\n",
    "    plt.title('Ground turth', fontsize=18)\n",
    "    \n",
    "    for i in range(x.shape[0]):\n",
    "        if y[i] == 0:\n",
    "            plt.plot(x[i][0], x[i][1], 'ro')\n",
    "        else:\n",
    "            plt.plot(x[i][0], x[i][1], 'bo')\n",
    "            \n",
    "    plt.subplot(1,2,2)\n",
    "    plt.title('Predict result', fontsize=18)\n",
    "    \n",
    "    for i in range(x.shape[0]):\n",
    "        if pred_y[i] == 0:\n",
    "            plt.plot(x[i][0], x[i][1], 'ro')\n",
    "        else:\n",
    "            plt.plot(x[i][0], x[i][1], 'bo')\n",
    "            \n",
    "    plt.show\n",
    "            "
   ]
  },
  {
   "cell_type": "code",
   "execution_count": null,
   "id": "4e89409a",
   "metadata": {},
   "outputs": [],
   "source": []
  },
  {
   "cell_type": "code",
   "execution_count": 18,
   "id": "c7d61b94",
   "metadata": {},
   "outputs": [],
   "source": [
    "# Initialize a network\n",
    "def initialize_network(n_inputs, n_hidden, n_outputs):\n",
    "    network = list()\n",
    "    hidden_layer = [{'weights':[random.random() for i in range(n_inputs + 1)]} for i in range(n_hidden)]\n",
    "    network.append(hidden_layer)\n",
    "    output_layer = [{'weights':[random.random() for i in range(n_hidden + 1)]} for i in range(n_outputs)]\n",
    "    network.append(output_layer)    \n",
    "    return network\n",
    " \n",
    "# Calculate neuron activation for an input\n",
    "def weighted_sum(weights, inputs):\n",
    "    z = weights[-1]\n",
    "    for i in range(len(weights)-1):\n",
    "        z += weights[i] * inputs[i]\n",
    "    return z\n",
    " \n",
    "# Transfer neuron activation\n",
    "def activation(x, f='sigmoid'):\n",
    "    if f == 'sigmoid':\n",
    "        return 1.0/(1.0+np.exp(-x))\n",
    "    if f == 'None':\n",
    "        return 1.0 * x\n",
    "    if f == 'tanh':\n",
    "        return np.tanh(x)\n",
    "    if f == \"ReLU\":\n",
    "        return np.maximum(0, x)\n",
    "    if f == \"leaky_ReLU\":\n",
    "        if x>=0:\n",
    "            return x\n",
    "        else:\n",
    "            return 0.001*x\n",
    "        \n",
    "# Calculate the derivative of an neuron output\n",
    "def derivative_activation(x, f='sigmoid'):\n",
    "    if f == 'sigmoid':\n",
    "        return np.multiply(x,1.0-x)\n",
    "    if f == 'None':\n",
    "        return 1.0\n",
    "    if f == 'tanh':\n",
    "        return 1.0 - x ** 2\n",
    "    if f == \"ReLU\":\n",
    "        return 1.0 * (x > 0)\n",
    "    if f == \"leaky_ReLU\":\n",
    "        if x>=0:\n",
    "            return 1\n",
    "        else:\n",
    "            return 0.001\n",
    "        \n",
    "# Forward propagate input to a network output\n",
    "def forward_propagate(network, row):\n",
    "    inputs = row\n",
    "    for layer in network:\n",
    "        new_inputs = []\n",
    "        for neuron in layer:\n",
    "            z = weighted_sum(neuron['weights'], inputs)\n",
    "            neuron['output'] = activation(z, 'sigmoid')\n",
    "            new_inputs.append(neuron['output'])\n",
    "        inputs = new_inputs\n",
    "    return inputs\n",
    " \n",
    "# Backpropagate error and store in neurons\n",
    "def backward_propagate_error(network, expected):\n",
    "    for i in reversed(range(len(network))):\n",
    "        layer = network[i]\n",
    "        errors = list()\n",
    "        if i != len(network)-1:\n",
    "            for j in range(len(layer)):\n",
    "                error = 0.0\n",
    "                for neuron in network[i + 1]:\n",
    "                    error += (neuron['weights'][j] * neuron['delta'])\n",
    "                errors.append(error)\n",
    "        else:\n",
    "            for j in range(len(layer)):\n",
    "                neuron = layer[j]\n",
    "                errors.append(neuron['output'] - expected[j])\n",
    "        for j in range(len(layer)):\n",
    "            neuron = layer[j]\n",
    "            neuron['delta'] = errors[j] * derivative_activation(neuron['output'], 'sigmoid')\n",
    "            \n",
    "# Update network weights with error\n",
    "def update_weights(network, row, l_rate):\n",
    "    for i in range(len(network)):\n",
    "        inputs = row[:-1]\n",
    "        if i != 0:\n",
    "            inputs = [neuron['output'] for neuron in network[i - 1]]\n",
    "        for neuron in network[i]:\n",
    "            for j in range(len(inputs)):\n",
    "                neuron['weights'][j] -= l_rate * neuron['delta'] * inputs[j]\n",
    "            neuron['weights'][-1] -= l_rate * neuron['delta']\n",
    "\n",
    "# Train a network for a fixed number of epochs\n",
    "def train_network(network, dataset, l_rate, n_epoch, n_outputs):\n",
    "    loss_list = []    \n",
    "    for epoch in range(n_epoch):\n",
    "        sum_error = 0      \n",
    "        for row in dataset:\n",
    "            outputs = forward_propagate(network, row)\n",
    "            expected = [0 for i in range(n_outputs)]\n",
    "            expected[int(row[-1])] = 1\n",
    "            sum_error += sum([(expected[i]-outputs[i])**2 for i in range(len(expected))])\n",
    "            sum_error = sum_error/len(dataset[0])\n",
    "            backward_propagate_error(network, expected)\n",
    "            update_weights(network, row, l_rate)\n",
    "            \n",
    "        loss_list.append(sum_error)\n",
    "        if epoch%500==0:\n",
    "            print('epoch %4d    loss : %.5f' % (epoch, sum_error))\n",
    "            \n",
    "    plt.plot(loss_list, marker=\"s\")\n",
    "    plt.title('Learning curve')\n",
    "    plt.xlabel('epochs')\n",
    "    plt.ylabel('loss')\n",
    "    plt.show()\n",
    "\n",
    "# Make a prediction with a network\n",
    "def predict(network, row):\n",
    "    outputs = forward_propagate(network, row)\n",
    "    #print('%.8f' % outputs[1])\n",
    "    return outputs.index(max(outputs)), outputs[1]\n"
   ]
  },
  {
   "cell_type": "code",
   "execution_count": 19,
   "id": "19ddf91b",
   "metadata": {},
   "outputs": [],
   "source": [
    "x, y = generate_linear(n=100)\n",
    "#x, y = generate_XOR_easy()"
   ]
  },
  {
   "cell_type": "code",
   "execution_count": 20,
   "id": "f3d5aa62",
   "metadata": {
    "scrolled": false
   },
   "outputs": [
    {
     "name": "stdout",
     "output_type": "stream",
     "text": [
      "epoch    0    loss : 0.34632\n",
      "epoch  500    loss : 0.13767\n",
      "epoch 1000    loss : 0.01617\n",
      "epoch 1500    loss : 0.01028\n",
      "epoch 2000    loss : 0.00841\n",
      "epoch 2500    loss : 0.00734\n",
      "epoch 3000    loss : 0.00661\n",
      "epoch 3500    loss : 0.00606\n",
      "epoch 4000    loss : 0.00562\n",
      "epoch 4500    loss : 0.00526\n",
      "epoch 5000    loss : 0.00496\n",
      "epoch 5500    loss : 0.00470\n",
      "epoch 6000    loss : 0.00447\n",
      "epoch 6500    loss : 0.00427\n",
      "epoch 7000    loss : 0.00409\n",
      "epoch 7500    loss : 0.00393\n",
      "epoch 8000    loss : 0.00379\n",
      "epoch 8500    loss : 0.00365\n",
      "epoch 9000    loss : 0.00353\n",
      "epoch 9500    loss : 0.00341\n"
     ]
    },
    {
     "data": {
      "image/png": "[encoded data removed]",
      "text/plain": [
       "<Figure size 432x288 with 1 Axes>"
      ]
     },
     "metadata": {
      "needs_background": "light"
     },
     "output_type": "display_data"
    }
   ],
   "source": [
    "dataset = np.hstack((x,y))\n",
    "\n",
    "n_inputs = len(x[0])\n",
    "n_outputs = len(set([i[0] for i in y]))\n",
    "n_hidden = 2\n",
    "\n",
    "network = initialize_network(n_inputs, n_hidden, n_outputs)\n",
    "\n",
    "l_rate = 0.01\n",
    "n_epoch = 10000\n",
    "\n",
    "train_network(network, dataset, l_rate, n_epoch, n_outputs)\n"
   ]
  },
  {
   "cell_type": "code",
   "execution_count": 21,
   "id": "634949d7",
   "metadata": {},
   "outputs": [],
   "source": [
    "network1 = list()\n",
    "for layer in network:\n",
    "    #print(layer[0]['weights'], layer[1]['weights'])\n",
    "    hidden_layer = [{'weights':layer[i]['weights']} for i in range(len(layer))]\n",
    "    network1.append(hidden_layer)\n",
    "#print(network1)"
   ]
  },
  {
   "cell_type": "code",
   "execution_count": 22,
   "id": "788badf2",
   "metadata": {
    "scrolled": true
   },
   "outputs": [
    {
     "name": "stdout",
     "output_type": "stream",
     "text": [
      "0.00147180   label = 0  predict = 0\n",
      "0.00023831   label = 0  predict = 0\n",
      "0.99964383   label = 1  predict = 1\n",
      "0.00021594   label = 0  predict = 0\n",
      "0.00036018   label = 0  predict = 0\n",
      "0.99986156   label = 1  predict = 1\n",
      "0.99986014   label = 1  predict = 1\n",
      "0.99986094   label = 1  predict = 1\n",
      "0.00020150   label = 0  predict = 0\n",
      "0.01940991   label = 0  predict = 0\n",
      "0.99962789   label = 1  predict = 1\n",
      "0.99973695   label = 1  predict = 1\n",
      "0.00059347   label = 0  predict = 0\n",
      "0.99941546   label = 1  predict = 1\n",
      "0.00045072   label = 0  predict = 0\n",
      "0.99910116   label = 1  predict = 1\n",
      "0.99977814   label = 1  predict = 1\n",
      "0.97195110   label = 1  predict = 1\n",
      "0.99946674   label = 1  predict = 1\n",
      "0.13681947   label = 0  predict = 0\n",
      "0.00743499   label = 0  predict = 0\n",
      "0.00013935   label = 0  predict = 0\n",
      "0.00016889   label = 0  predict = 0\n",
      "0.04422092   label = 0  predict = 0\n",
      "0.99980657   label = 1  predict = 1\n",
      "0.99979791   label = 1  predict = 1\n",
      "0.99895100   label = 1  predict = 1\n",
      "0.99783007   label = 1  predict = 1\n",
      "0.00014088   label = 0  predict = 0\n",
      "0.92885618   label = 1  predict = 1\n",
      "0.00033564   label = 0  predict = 0\n",
      "0.99957615   label = 1  predict = 1\n",
      "0.00174022   label = 0  predict = 0\n",
      "0.98575837   label = 1  predict = 1\n",
      "0.99961627   label = 1  predict = 1\n",
      "0.77298628   label = 1  predict = 1\n",
      "0.95075670   label = 1  predict = 1\n",
      "0.97885738   label = 1  predict = 1\n",
      "0.00013609   label = 0  predict = 0\n",
      "0.99942053   label = 1  predict = 1\n",
      "0.99986142   label = 1  predict = 1\n",
      "0.91639186   label = 1  predict = 1\n",
      "0.00013424   label = 0  predict = 0\n",
      "0.06642642   label = 0  predict = 0\n",
      "0.99985109   label = 1  predict = 1\n",
      "0.00015259   label = 0  predict = 0\n",
      "0.00189682   label = 0  predict = 0\n",
      "0.00021185   label = 0  predict = 0\n",
      "0.00144091   label = 0  predict = 0\n",
      "0.99947798   label = 1  predict = 1\n",
      "0.00017732   label = 0  predict = 0\n",
      "0.24028199   label = 0  predict = 0\n",
      "0.00016434   label = 0  predict = 0\n",
      "0.00131030   label = 0  predict = 0\n",
      "0.99552742   label = 1  predict = 1\n",
      "0.99984309   label = 1  predict = 1\n",
      "0.99984593   label = 1  predict = 1\n",
      "0.00200988   label = 0  predict = 0\n",
      "0.12445123   label = 0  predict = 0\n",
      "0.99984001   label = 1  predict = 1\n",
      "0.00103273   label = 0  predict = 0\n",
      "0.66818589   label = 1  predict = 1\n",
      "0.99983194   label = 1  predict = 1\n",
      "0.98894822   label = 1  predict = 1\n",
      "0.99951200   label = 1  predict = 1\n",
      "0.99247947   label = 1  predict = 1\n",
      "0.00037941   label = 0  predict = 0\n",
      "0.02160201   label = 0  predict = 0\n",
      "0.99874770   label = 1  predict = 1\n",
      "0.00737912   label = 0  predict = 0\n",
      "0.09149390   label = 0  predict = 0\n",
      "0.00014342   label = 0  predict = 0\n",
      "0.99985463   label = 1  predict = 1\n",
      "0.98781863   label = 1  predict = 1\n",
      "0.99841749   label = 1  predict = 1\n",
      "0.99965739   label = 1  predict = 1\n",
      "0.00013598   label = 0  predict = 0\n",
      "0.99923607   label = 1  predict = 1\n",
      "0.99683012   label = 1  predict = 1\n",
      "0.99946875   label = 1  predict = 1\n",
      "0.10108990   label = 0  predict = 0\n",
      "0.99964168   label = 1  predict = 1\n",
      "0.00037503   label = 0  predict = 0\n",
      "0.00063217   label = 0  predict = 0\n",
      "0.99986071   label = 1  predict = 1\n",
      "0.00051738   label = 0  predict = 0\n",
      "0.99978864   label = 1  predict = 1\n",
      "0.98941010   label = 1  predict = 1\n",
      "0.94116968   label = 1  predict = 1\n",
      "0.99977593   label = 1  predict = 1\n",
      "0.00460902   label = 0  predict = 0\n",
      "0.99985609   label = 1  predict = 1\n",
      "0.99969712   label = 1  predict = 1\n",
      "0.00029211   label = 0  predict = 0\n",
      "0.00014399   label = 0  predict = 0\n",
      "0.99982420   label = 1  predict = 1\n",
      "0.00020013   label = 0  predict = 0\n",
      "0.20966238   label = 0  predict = 0\n",
      "0.00019023   label = 0  predict = 0\n",
      "0.00039880   label = 0  predict = 0\n",
      "\n",
      "Accuracy :  1.0\n"
     ]
    }
   ],
   "source": [
    "count = 0\n",
    "pre_y = []\n",
    "for row in dataset:\n",
    "    prediction, output = predict(network1, row)\n",
    "    print('%.8f   label = %d  predict = %d' % (output, row[-1], prediction))\n",
    "    #print(prediction)\n",
    "    pre_y.append(prediction)\n",
    "    if row[-1] == prediction:\n",
    "        count += 1\n",
    "print('\\nAccuracy : ', count/len(dataset))\n",
    "        "
   ]
  },
  {
   "cell_type": "code",
   "execution_count": 23,
   "id": "58c8e17f",
   "metadata": {},
   "outputs": [
    {
     "data": {
      "image/png": "[encoded data removed]",
      "text/plain": [
       "<Figure size 432x288 with 2 Axes>"
      ]
     },
     "metadata": {
      "needs_background": "light"
     },
     "output_type": "display_data"
    }
   ],
   "source": [
    "show_result(x, y, pre_y)"
   ]
  },
  {
   "cell_type": "code",
   "execution_count": null,
   "id": "f09910ec",
   "metadata": {},
   "outputs": [],
   "source": []
  },
  {
   "cell_type": "code",
   "execution_count": 24,
   "id": "09b74e6b",
   "metadata": {},
   "outputs": [],
   "source": [
    "x, y = generate_XOR_easy()"
   ]
  },
  {
   "cell_type": "code",
   "execution_count": 25,
   "id": "051350f3",
   "metadata": {},
   "outputs": [
    {
     "name": "stdout",
     "output_type": "stream",
     "text": [
      "epoch    0    loss : 0.26686\n",
      "epoch  500    loss : 0.26378\n",
      "epoch 1000    loss : 0.02751\n",
      "epoch 1500    loss : 0.00235\n",
      "epoch 2000    loss : 0.00074\n",
      "epoch 2500    loss : 0.00040\n",
      "epoch 3000    loss : 0.00026\n",
      "epoch 3500    loss : 0.00019\n",
      "epoch 4000    loss : 0.00015\n",
      "epoch 4500    loss : 0.00012\n",
      "epoch 5000    loss : 0.00010\n",
      "epoch 5500    loss : 0.00009\n",
      "epoch 6000    loss : 0.00008\n",
      "epoch 6500    loss : 0.00007\n",
      "epoch 7000    loss : 0.00006\n",
      "epoch 7500    loss : 0.00006\n",
      "epoch 8000    loss : 0.00005\n",
      "epoch 8500    loss : 0.00005\n",
      "epoch 9000    loss : 0.00004\n",
      "epoch 9500    loss : 0.00004\n"
     ]
    },
    {
     "data": {
      "image/png": "[encoded data removed]",
      "text/plain": [
       "<Figure size 432x288 with 1 Axes>"
      ]
     },
     "metadata": {
      "needs_background": "light"
     },
     "output_type": "display_data"
    }
   ],
   "source": [
    "dataset = np.hstack((x,y))\n",
    "\n",
    "n_inputs = len(x[0])\n",
    "n_outputs = len(set([i[0] for i in y]))\n",
    "n_hidden = 2\n",
    "\n",
    "network = initialize_network(n_inputs, n_hidden, n_outputs)\n",
    "\n",
    "l_rate = 0.3\n",
    "n_epoch = 10000\n",
    "\n",
    "train_network(network, dataset, l_rate, n_epoch, n_outputs)\n"
   ]
  },
  {
   "cell_type": "code",
   "execution_count": 26,
   "id": "179033e8",
   "metadata": {},
   "outputs": [],
   "source": [
    "network1 = list()\n",
    "for layer in network:\n",
    "    #print(layer[0]['weights'], layer[1]['weights'])\n",
    "    hidden_layer = [{'weights':layer[i]['weights']} for i in range(len(layer))]\n",
    "    network1.append(hidden_layer)\n",
    "#print(network1)"
   ]
  },
  {
   "cell_type": "code",
   "execution_count": 27,
   "id": "b75ddd49",
   "metadata": {},
   "outputs": [
    {
     "name": "stdout",
     "output_type": "stream",
     "text": [
      "0.01234163   label = 0  predict = 0\n",
      "0.99789725   label = 1  predict = 1\n",
      "0.01231613   label = 0  predict = 0\n",
      "0.99789689   label = 1  predict = 1\n",
      "0.01229071   label = 0  predict = 0\n",
      "0.99788718   label = 1  predict = 1\n",
      "0.01226536   label = 0  predict = 0\n",
      "0.99760945   label = 1  predict = 1\n",
      "0.01224007   label = 0  predict = 0\n",
      "0.96735528   label = 1  predict = 1\n",
      "0.01221486   label = 0  predict = 0\n",
      "0.01218972   label = 0  predict = 0\n",
      "0.97190743   label = 1  predict = 1\n",
      "0.01216465   label = 0  predict = 0\n",
      "0.99863826   label = 1  predict = 1\n",
      "0.01213965   label = 0  predict = 0\n",
      "0.99879935   label = 1  predict = 1\n",
      "0.01211471   label = 0  predict = 0\n",
      "0.99880417   label = 1  predict = 1\n",
      "0.01208985   label = 0  predict = 0\n",
      "0.99880432   label = 1  predict = 1\n",
      "\n",
      "Accuracy :  1.0\n"
     ]
    }
   ],
   "source": [
    "count = 0\n",
    "pre_y = []\n",
    "for row in dataset:\n",
    "    prediction, output = predict(network1, row)\n",
    "    print('%.8f   label = %d  predict = %d' % (output, row[-1], prediction))\n",
    "    #print(prediction)\n",
    "    pre_y.append(prediction)\n",
    "    if row[-1] == prediction:\n",
    "        count += 1\n",
    "print('\\nAccuracy : ', count/len(dataset))\n",
    "        "
   ]
  },
  {
   "cell_type": "code",
   "execution_count": 28,
   "id": "a00a08e9",
   "metadata": {},
   "outputs": [
    {
     "data": {
      "image/png": "[encoded data removed]",
      "text/plain": [
       "<Figure size 432x288 with 2 Axes>"
      ]
     },
     "metadata": {
      "needs_background": "light"
     },
     "output_type": "display_data"
    }
   ],
   "source": [
    "show_result(x, y, pre_y)"
   ]
  },
  {
   "cell_type": "code",
   "execution_count": null,
   "id": "8fadbacf",
   "metadata": {},
   "outputs": [],
   "source": []
  }
 ],
 "metadata": {
  "kernelspec": {
   "display_name": "Python 3",
   "language": "python",
   "name": "python3"
  },
  "language_info": {
   "codemirror_mode": {
    "name": "ipython",
    "version": 3
   },
   "file_extension": ".py",
   "mimetype": "text/x-python",
   "name": "python",
   "nbconvert_exporter": "python",
   "pygments_lexer": "ipython3",
   "version": "3.8.10"
  }
 },
 "nbformat": 4,
 "nbformat_minor": 5
}
